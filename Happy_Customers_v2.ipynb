{
 "cells": [
  {
   "cell_type": "markdown",
   "id": "54d2e97d",
   "metadata": {
    "slideshow": {
     "slide_type": "slide"
    }
   },
   "source": [
    "# Background:\n",
    "\n",
    "We are one of the fastest growing startups in the logistics and delivery domain. We work with several partners and make on-demand delivery to our customers. During the COVID-19 pandemic, we are facing several different challenges and everyday we are trying to address these challenges.\n",
    "\n",
    "We thrive on making our customers happy. As a growing startup, with a global expansion strategy we know that we need to make our customers happy and the only way to do that is to measure how happy each customer is. If we can predict what makes our customers happy or unhappy, we can then take necessary actions.\n",
    "\n",
    "Getting feedback from customers is not easy either, but we do our best to get constant feedback from our customers. This is a crucial function to improve our operations across all levels.\n",
    "\n",
    "We recently did a survey to a select customer cohort. You are presented with a subset of this data. We will be using the remaining data as a private test set.\n",
    "\n",
    "## Data Description:\n",
    "\n",
    "- Y = target attribute (Y) with values indicating 0 (unhappy) and 1 (happy) customers\n",
    "- X1 = my order was delivered on time\n",
    "- X2 = contents of my order was as I expected\n",
    "- X3 = I ordered everything I wanted to order\n",
    "- X4 = I paid a good price for my order\n",
    "- X5 = I am satisfied with my courier\n",
    "- X6 = the app makes ordering easy for me\n",
    "\n",
    "Attributes X1 to X6 indicate the responses for each question and have values from 1 to 5 where the smaller number indicates less and the higher number indicates more towards the answer.\n",
    "\n",
    "##### Goal(s):\n",
    "Predict if a customer is happy or not based on the answers they give to questions asked.\n",
    "\n",
    "##### Success Metrics:\n",
    "Reach 73% accuracy score or above, or convince us why your solution is superior. We are definitely interested in every solution and insight you can provide us.\n",
    "\n",
    "##### Bonus(es):\n",
    "\n",
    "We are very interested in finding which questions/features are more important when predicting a customer’s happiness. Using a feature selection approach show us understand what is the minimal set of attributes/features that would preserve the most information about the problem while increasing predictability of the data we have. Is there any question that we can remove in our next survey?\n",
    "\n",
    "Submission Instructions:\n",
    "Project should be implemented with Python\n",
    "Please name your repository on GitHub with this name without exposing your project information: UjZzgT16i2SLos6z"
   ]
  },
  {
   "cell_type": "code",
   "execution_count": 1,
   "id": "86357683",
   "metadata": {
    "slideshow": {
     "slide_type": "slide"
    }
   },
   "outputs": [
    {
     "data": {
      "text/html": [
       "<div>\n",
       "<style scoped>\n",
       "    .dataframe tbody tr th:only-of-type {\n",
       "        vertical-align: middle;\n",
       "    }\n",
       "\n",
       "    .dataframe tbody tr th {\n",
       "        vertical-align: top;\n",
       "    }\n",
       "\n",
       "    .dataframe thead th {\n",
       "        text-align: right;\n",
       "    }\n",
       "</style>\n",
       "<table border=\"1\" class=\"dataframe\">\n",
       "  <thead>\n",
       "    <tr style=\"text-align: right;\">\n",
       "      <th></th>\n",
       "      <th>Y</th>\n",
       "      <th>X1</th>\n",
       "      <th>X2</th>\n",
       "      <th>X3</th>\n",
       "      <th>X4</th>\n",
       "      <th>X5</th>\n",
       "      <th>X6</th>\n",
       "    </tr>\n",
       "  </thead>\n",
       "  <tbody>\n",
       "    <tr>\n",
       "      <th>0</th>\n",
       "      <td>0</td>\n",
       "      <td>3</td>\n",
       "      <td>3</td>\n",
       "      <td>3</td>\n",
       "      <td>4</td>\n",
       "      <td>2</td>\n",
       "      <td>4</td>\n",
       "    </tr>\n",
       "    <tr>\n",
       "      <th>1</th>\n",
       "      <td>0</td>\n",
       "      <td>3</td>\n",
       "      <td>2</td>\n",
       "      <td>3</td>\n",
       "      <td>5</td>\n",
       "      <td>4</td>\n",
       "      <td>3</td>\n",
       "    </tr>\n",
       "    <tr>\n",
       "      <th>2</th>\n",
       "      <td>1</td>\n",
       "      <td>5</td>\n",
       "      <td>3</td>\n",
       "      <td>3</td>\n",
       "      <td>3</td>\n",
       "      <td>3</td>\n",
       "      <td>5</td>\n",
       "    </tr>\n",
       "    <tr>\n",
       "      <th>3</th>\n",
       "      <td>0</td>\n",
       "      <td>5</td>\n",
       "      <td>4</td>\n",
       "      <td>3</td>\n",
       "      <td>3</td>\n",
       "      <td>3</td>\n",
       "      <td>5</td>\n",
       "    </tr>\n",
       "    <tr>\n",
       "      <th>4</th>\n",
       "      <td>0</td>\n",
       "      <td>5</td>\n",
       "      <td>4</td>\n",
       "      <td>3</td>\n",
       "      <td>3</td>\n",
       "      <td>3</td>\n",
       "      <td>5</td>\n",
       "    </tr>\n",
       "    <tr>\n",
       "      <th>5</th>\n",
       "      <td>1</td>\n",
       "      <td>5</td>\n",
       "      <td>5</td>\n",
       "      <td>3</td>\n",
       "      <td>5</td>\n",
       "      <td>5</td>\n",
       "      <td>5</td>\n",
       "    </tr>\n",
       "    <tr>\n",
       "      <th>6</th>\n",
       "      <td>0</td>\n",
       "      <td>3</td>\n",
       "      <td>1</td>\n",
       "      <td>2</td>\n",
       "      <td>2</td>\n",
       "      <td>1</td>\n",
       "      <td>3</td>\n",
       "    </tr>\n",
       "    <tr>\n",
       "      <th>7</th>\n",
       "      <td>1</td>\n",
       "      <td>5</td>\n",
       "      <td>4</td>\n",
       "      <td>4</td>\n",
       "      <td>4</td>\n",
       "      <td>4</td>\n",
       "      <td>5</td>\n",
       "    </tr>\n",
       "    <tr>\n",
       "      <th>8</th>\n",
       "      <td>0</td>\n",
       "      <td>4</td>\n",
       "      <td>1</td>\n",
       "      <td>4</td>\n",
       "      <td>4</td>\n",
       "      <td>4</td>\n",
       "      <td>4</td>\n",
       "    </tr>\n",
       "    <tr>\n",
       "      <th>9</th>\n",
       "      <td>0</td>\n",
       "      <td>4</td>\n",
       "      <td>4</td>\n",
       "      <td>4</td>\n",
       "      <td>2</td>\n",
       "      <td>5</td>\n",
       "      <td>5</td>\n",
       "    </tr>\n",
       "  </tbody>\n",
       "</table>\n",
       "</div>"
      ],
      "text/plain": [
       "   Y  X1  X2  X3  X4  X5  X6\n",
       "0  0   3   3   3   4   2   4\n",
       "1  0   3   2   3   5   4   3\n",
       "2  1   5   3   3   3   3   5\n",
       "3  0   5   4   3   3   3   5\n",
       "4  0   5   4   3   3   3   5\n",
       "5  1   5   5   3   5   5   5\n",
       "6  0   3   1   2   2   1   3\n",
       "7  1   5   4   4   4   4   5\n",
       "8  0   4   1   4   4   4   4\n",
       "9  0   4   4   4   2   5   5"
      ]
     },
     "execution_count": 1,
     "metadata": {},
     "output_type": "execute_result"
    }
   ],
   "source": [
    "#Read in the data\n",
    "import pandas as pd\n",
    "import numpy as np\n",
    "acme_df = pd.read_csv(\"ACME-HappinessSurvey2020.csv\")\n",
    "acme_df.head(10)"
   ]
  },
  {
   "cell_type": "markdown",
   "id": "a8d48e11",
   "metadata": {},
   "source": [
    "## Exploratory Data Analysis"
   ]
  },
  {
   "cell_type": "code",
   "execution_count": 2,
   "id": "aa085d83",
   "metadata": {
    "slideshow": {
     "slide_type": "slide"
    }
   },
   "outputs": [
    {
     "name": "stdout",
     "output_type": "stream",
     "text": [
      "<class 'pandas.core.frame.DataFrame'>\n",
      "RangeIndex: 126 entries, 0 to 125\n",
      "Data columns (total 7 columns):\n",
      " #   Column  Non-Null Count  Dtype\n",
      "---  ------  --------------  -----\n",
      " 0   Y       126 non-null    int64\n",
      " 1   X1      126 non-null    int64\n",
      " 2   X2      126 non-null    int64\n",
      " 3   X3      126 non-null    int64\n",
      " 4   X4      126 non-null    int64\n",
      " 5   X5      126 non-null    int64\n",
      " 6   X6      126 non-null    int64\n",
      "dtypes: int64(7)\n",
      "memory usage: 7.0 KB\n",
      "None\n"
     ]
    }
   ],
   "source": [
    "# Checking data structure\n",
    "print(acme_df.info())"
   ]
  },
  {
   "cell_type": "markdown",
   "id": "6affdaee",
   "metadata": {},
   "source": [
    "Dataset is small (126 entries), I anticipate potential challenges in training model with good accuracy"
   ]
  },
  {
   "cell_type": "code",
   "execution_count": 3,
   "id": "7cd35541",
   "metadata": {
    "slideshow": {
     "slide_type": "slide"
    }
   },
   "outputs": [
    {
     "name": "stdout",
     "output_type": "stream",
     "text": [
      "(126, 7)\n"
     ]
    }
   ],
   "source": [
    "print(acme_df.shape)"
   ]
  },
  {
   "cell_type": "code",
   "execution_count": 4,
   "id": "639763ea",
   "metadata": {
    "slideshow": {
     "slide_type": "slide"
    }
   },
   "outputs": [
    {
     "name": "stdout",
     "output_type": "stream",
     "text": [
      "                Y          X1          X2          X3          X4          X5  \\\n",
      "count  126.000000  126.000000  126.000000  126.000000  126.000000  126.000000   \n",
      "mean     0.547619    4.333333    2.531746    3.309524    3.746032    3.650794   \n",
      "std      0.499714    0.800000    1.114892    1.023440    0.875776    1.147641   \n",
      "min      0.000000    1.000000    1.000000    1.000000    1.000000    1.000000   \n",
      "25%      0.000000    4.000000    2.000000    3.000000    3.000000    3.000000   \n",
      "50%      1.000000    5.000000    3.000000    3.000000    4.000000    4.000000   \n",
      "75%      1.000000    5.000000    3.000000    4.000000    4.000000    4.000000   \n",
      "max      1.000000    5.000000    5.000000    5.000000    5.000000    5.000000   \n",
      "\n",
      "               X6  \n",
      "count  126.000000  \n",
      "mean     4.253968  \n",
      "std      0.809311  \n",
      "min      1.000000  \n",
      "25%      4.000000  \n",
      "50%      4.000000  \n",
      "75%      5.000000  \n",
      "max      5.000000  \n"
     ]
    }
   ],
   "source": [
    "print(acme_df.describe())"
   ]
  },
  {
   "cell_type": "code",
   "execution_count": 5,
   "id": "058d033a",
   "metadata": {
    "slideshow": {
     "slide_type": "slide"
    }
   },
   "outputs": [
    {
     "name": "stdout",
     "output_type": "stream",
     "text": [
      "1    69\n",
      "0    57\n",
      "Name: Y, dtype: int64 1    0.547619\n",
      "0    0.452381\n",
      "Name: Y, dtype: float64\n"
     ]
    }
   ],
   "source": [
    "print(acme_df.Y.value_counts(),acme_df.Y.value_counts(normalize = True))"
   ]
  },
  {
   "cell_type": "code",
   "execution_count": 6,
   "id": "269048b3",
   "metadata": {},
   "outputs": [
    {
     "data": {
      "text/html": [
       "<div>\n",
       "<style scoped>\n",
       "    .dataframe tbody tr th:only-of-type {\n",
       "        vertical-align: middle;\n",
       "    }\n",
       "\n",
       "    .dataframe tbody tr th {\n",
       "        vertical-align: top;\n",
       "    }\n",
       "\n",
       "    .dataframe thead th {\n",
       "        text-align: right;\n",
       "    }\n",
       "</style>\n",
       "<table border=\"1\" class=\"dataframe\">\n",
       "  <thead>\n",
       "    <tr style=\"text-align: right;\">\n",
       "      <th></th>\n",
       "      <th>Y</th>\n",
       "      <th>X1</th>\n",
       "      <th>X2</th>\n",
       "      <th>X3</th>\n",
       "      <th>X4</th>\n",
       "      <th>X5</th>\n",
       "      <th>X6</th>\n",
       "    </tr>\n",
       "  </thead>\n",
       "  <tbody>\n",
       "    <tr>\n",
       "      <th>Y</th>\n",
       "      <td>1.000000</td>\n",
       "      <td>0.280160</td>\n",
       "      <td>-0.024274</td>\n",
       "      <td>0.150838</td>\n",
       "      <td>0.064415</td>\n",
       "      <td>0.224522</td>\n",
       "      <td>0.167669</td>\n",
       "    </tr>\n",
       "    <tr>\n",
       "      <th>X1</th>\n",
       "      <td>0.280160</td>\n",
       "      <td>1.000000</td>\n",
       "      <td>0.059797</td>\n",
       "      <td>0.283358</td>\n",
       "      <td>0.087541</td>\n",
       "      <td>0.432772</td>\n",
       "      <td>0.411873</td>\n",
       "    </tr>\n",
       "    <tr>\n",
       "      <th>X2</th>\n",
       "      <td>-0.024274</td>\n",
       "      <td>0.059797</td>\n",
       "      <td>1.000000</td>\n",
       "      <td>0.184129</td>\n",
       "      <td>0.114838</td>\n",
       "      <td>0.039996</td>\n",
       "      <td>-0.062205</td>\n",
       "    </tr>\n",
       "    <tr>\n",
       "      <th>X3</th>\n",
       "      <td>0.150838</td>\n",
       "      <td>0.283358</td>\n",
       "      <td>0.184129</td>\n",
       "      <td>1.000000</td>\n",
       "      <td>0.302618</td>\n",
       "      <td>0.358397</td>\n",
       "      <td>0.203750</td>\n",
       "    </tr>\n",
       "    <tr>\n",
       "      <th>X4</th>\n",
       "      <td>0.064415</td>\n",
       "      <td>0.087541</td>\n",
       "      <td>0.114838</td>\n",
       "      <td>0.302618</td>\n",
       "      <td>1.000000</td>\n",
       "      <td>0.293115</td>\n",
       "      <td>0.215888</td>\n",
       "    </tr>\n",
       "    <tr>\n",
       "      <th>X5</th>\n",
       "      <td>0.224522</td>\n",
       "      <td>0.432772</td>\n",
       "      <td>0.039996</td>\n",
       "      <td>0.358397</td>\n",
       "      <td>0.293115</td>\n",
       "      <td>1.000000</td>\n",
       "      <td>0.320195</td>\n",
       "    </tr>\n",
       "    <tr>\n",
       "      <th>X6</th>\n",
       "      <td>0.167669</td>\n",
       "      <td>0.411873</td>\n",
       "      <td>-0.062205</td>\n",
       "      <td>0.203750</td>\n",
       "      <td>0.215888</td>\n",
       "      <td>0.320195</td>\n",
       "      <td>1.000000</td>\n",
       "    </tr>\n",
       "  </tbody>\n",
       "</table>\n",
       "</div>"
      ],
      "text/plain": [
       "           Y        X1        X2        X3        X4        X5        X6\n",
       "Y   1.000000  0.280160 -0.024274  0.150838  0.064415  0.224522  0.167669\n",
       "X1  0.280160  1.000000  0.059797  0.283358  0.087541  0.432772  0.411873\n",
       "X2 -0.024274  0.059797  1.000000  0.184129  0.114838  0.039996 -0.062205\n",
       "X3  0.150838  0.283358  0.184129  1.000000  0.302618  0.358397  0.203750\n",
       "X4  0.064415  0.087541  0.114838  0.302618  1.000000  0.293115  0.215888\n",
       "X5  0.224522  0.432772  0.039996  0.358397  0.293115  1.000000  0.320195\n",
       "X6  0.167669  0.411873 -0.062205  0.203750  0.215888  0.320195  1.000000"
      ]
     },
     "execution_count": 6,
     "metadata": {},
     "output_type": "execute_result"
    }
   ],
   "source": [
    "#Rating by outcome by feature\n",
    "acme_df.corr()"
   ]
  },
  {
   "cell_type": "markdown",
   "id": "84154429",
   "metadata": {},
   "source": [
    "## Checking for Data Imbalances\n",
    "No significant data imbalance concerns from barplots below"
   ]
  },
  {
   "cell_type": "code",
   "execution_count": 7,
   "id": "5ea4cf91",
   "metadata": {
    "slideshow": {
     "slide_type": "slide"
    }
   },
   "outputs": [
    {
     "data": {
      "image/png": "[encoded data removed]",
      "text/plain": [
       "<Figure size 640x480 with 1 Axes>"
      ]
     },
     "metadata": {},
     "output_type": "display_data"
    }
   ],
   "source": [
    "# Checking for data imbalances\n",
    "\n",
    "import matplotlib.pyplot as plt\n",
    "acme_df.Y.value_counts().plot(kind=\"bar\")\n",
    "plt.title(\"Value counts of the target variable\")\n",
    "plt.xlabel(\"Target attribute\")\n",
    "plt.xticks(rotation = 0)\n",
    "plt.ylabel(\"Count\")\n",
    "plt.show()"
   ]
  },
  {
   "cell_type": "code",
   "execution_count": 8,
   "id": "fcba6d5b",
   "metadata": {
    "slideshow": {
     "slide_type": "slide"
    }
   },
   "outputs": [
    {
     "data": {
      "image/png": "[encoded data removed]",
      "text/plain": [
       "<Figure size 1000x800 with 6 Axes>"
      ]
     },
     "metadata": {},
     "output_type": "display_data"
    }
   ],
   "source": [
    "import seaborn as sns\n",
    "import matplotlib.pyplot as plt\n",
    "\n",
    "# Create a figure and 6 subplots\n",
    "fig, axes = plt.subplots(nrows=2, ncols=3, figsize=(10, 8))\n",
    "\n",
    "# X1 boxplot\n",
    "sns.boxplot(x=acme_df['Y'], y=acme_df['X1'], ax=axes[0,0])\n",
    "axes[0,0].set_title('Boxplot of X1')\n",
    "axes[0,0].set_xlabel('Y')\n",
    "axes[0,0].set_ylabel('X1')\n",
    "\n",
    "# X2 boxplot\n",
    "sns.boxplot(x=acme_df['Y'], y=acme_df['X2'], ax=axes[0,1])\n",
    "axes[0,1].set_title('Boxplot of X2')\n",
    "axes[0,1].set_xlabel('Y')\n",
    "axes[0,1].set_ylabel('X2')\n",
    "\n",
    "# X3 boxplot\n",
    "sns.boxplot(x=acme_df['Y'], y=acme_df['X3'], ax=axes[0,2])\n",
    "axes[0,2].set_title('Boxplot of X3')\n",
    "axes[0,2].set_xlabel('Y')\n",
    "axes[0,2].set_ylabel('X3')\n",
    "\n",
    "# X4 boxplot\n",
    "sns.boxplot(x=acme_df['Y'], y=acme_df['X4'], ax=axes[1,0])\n",
    "axes[1,0].set_title('Boxplot of X4')\n",
    "axes[1,0].set_xlabel('Y')\n",
    "axes[1,0].set_ylabel('X4')\n",
    "\n",
    "# X5 boxplot\n",
    "sns.boxplot(x=acme_df['Y'], y=acme_df['X5'], ax=axes[1,1])\n",
    "axes[1,1].set_title('Boxplot of X5')\n",
    "axes[1,1].set_xlabel('Y')\n",
    "axes[1,1].set_ylabel('X5')\n",
    "\n",
    "\n",
    "# X5 boxplot\n",
    "sns.boxplot(x=acme_df['Y'], y=acme_df['X6'], ax=axes[1,2])\n",
    "axes[1,2].set_title('Boxplot of X6')\n",
    "axes[1,2].set_xlabel('Y')\n",
    "axes[1,2].set_ylabel('X6')\n",
    "\n",
    "# Set the overall title for the plot\n",
    "fig.suptitle('Boxplots of X1 and X2')\n",
    "\n",
    "# Adjust the spacing between subplots\n",
    "plt.tight_layout()\n",
    "\n",
    "# Display the plot\n",
    "plt.show()"
   ]
  },
  {
   "cell_type": "markdown",
   "id": "508b42d7",
   "metadata": {},
   "source": [
    "#### Analysis\n",
    "- The company seems to be doing well in terms of timely deliveries (X1) as both happy and unhappy customers are averaging above 4.3\n",
    "- In terms of X2, the company has performed poorly in terms of items in the order meeting costomer expectations (correct order or good quality) and this rated similarly by both happy and unhappy customers \n",
    "- The company has performed averagely in terms of product availability and pricing - X3 and X4\n",
    "- Both happy and unhappy customers seem to be a bit more satisfied with the app on average (X6) though the distribution of their responses are quite different\n",
    "- Barplots indicate X5 and X6 could be useful predictors as the ratings distribution for happy and unhappy customers are slightly different unlike for other variables where it's largely the same. "
   ]
  },
  {
   "cell_type": "code",
   "execution_count": 10,
   "id": "97f930ad",
   "metadata": {},
   "outputs": [
    {
     "data": {
      "image/png": "[encoded data removed]",
      "text/plain": [
       "<Figure size 1000x800 with 6 Axes>"
      ]
     },
     "metadata": {},
     "output_type": "display_data"
    }
   ],
   "source": [
    "un_pivot = pd.melt(acme_df, id_vars = 'Y', value_vars = ['X1', 'X2', 'X3','X4','X5','X6'],\n",
    "                   var_name ='feature', value_name ='rating')\n",
    "\n",
    "un_pivot = un_pivot.pivot_table(index=['feature','rating'], columns=['Y'], aggfunc=len).reset_index()\n",
    "un_pivot.head(5)\n",
    "\n",
    "# Create a figure and 6 subplots\n",
    "import matplotlib.pyplot as plt\n",
    "\n",
    "fig, axes = plt.subplots(nrows=2, ncols=3, figsize=(10, 8))\n",
    "\n",
    "\n",
    "un_pivot.loc[(un_pivot['feature'] == \"X1\")].plot(x ='rating', kind='bar', stacked = True,ax=axes[0,0])\n",
    "axes[0,0].set_title('Barplot of X1')\n",
    "axes[0,0].set_xlabel('X1')\n",
    "axes[0,0].set_ylabel('Freq')\n",
    "\n",
    "un_pivot.loc[(un_pivot['feature'] == \"X2\")].plot(x ='rating', kind='bar', stacked = True,ax=axes[0,1])\n",
    "axes[0,1].set_title('Barplot of X2')\n",
    "axes[0,1].set_xlabel('X2')\n",
    "axes[0,1].set_ylabel('Freq')\n",
    "\n",
    "un_pivot.loc[(un_pivot['feature'] == \"X3\")].plot(x ='rating', kind='bar', stacked = True,ax=axes[0,2])\n",
    "axes[0,2].set_title('Barplot of X3')\n",
    "axes[0,2].set_xlabel('X3')\n",
    "axes[0,2].set_ylabel('Freq')\n",
    "\n",
    "un_pivot.loc[(un_pivot['feature'] == \"X4\")].plot(x ='rating', kind='bar', stacked = True,ax=axes[1,0])\n",
    "axes[1,0].set_title('Barplot of X4')\n",
    "axes[1,0].set_xlabel('X4')\n",
    "axes[1,0].set_ylabel('Freq')\n",
    "\n",
    "un_pivot.loc[(un_pivot['feature'] == \"X5\")].plot(x ='rating', kind='bar', stacked = True,ax=axes[1,1])\n",
    "axes[1,1].set_title('Barplot of X5')\n",
    "axes[1,1].set_xlabel('X5')\n",
    "axes[1,1].set_ylabel('Freq')\n",
    "\n",
    "un_pivot.loc[(un_pivot['feature'] == \"X6\")].plot(x ='rating', kind='bar', stacked = True,ax=axes[1,2])\n",
    "axes[1,2].set_title('Barplot of X6')\n",
    "axes[1,2].set_xlabel('X6')\n",
    "axes[1,2].set_ylabel('Freq')\n",
    "\n",
    "# Set the overall title for the plot\n",
    "fig.suptitle('Feature Barplots')\n",
    "\n",
    "# Adjust the spacing between subplots\n",
    "plt.tight_layout()\n",
    "\n",
    "# Display the plot\n",
    "plt.show()\n"
   ]
  },
  {
   "cell_type": "markdown",
   "id": "baa4615f",
   "metadata": {},
   "source": [
    "# Evaluating Multiple classification models"
   ]
  },
  {
   "cell_type": "code",
   "execution_count": 63,
   "id": "6567c522",
   "metadata": {},
   "outputs": [
    {
     "data": {
      "image/png": "[encoded data removed]",
      "text/plain": [
       "<Figure size 640x480 with 1 Axes>"
      ]
     },
     "metadata": {},
     "output_type": "display_data"
    }
   ],
   "source": [
    "from sklearn.linear_model import LogisticRegression\n",
    "from sklearn.neighbors import KNeighborsClassifier\n",
    "from sklearn.tree import DecisionTreeClassifier\n",
    "from sklearn.model_selection import train_test_split, KFold, cross_val_score\n",
    "\n",
    "# Create arrays for the features and the target variable\n",
    "\n",
    "X = acme_df.drop([\"Y\",\"X1\",\"X2\",\"X3\",\"X4\"], axis=1).values\n",
    "#X = acme_df.drop([\"Y\"], axis=1).values\n",
    "# X = acme_df[[\"X5\"]].values\n",
    "y = acme_df[\"Y\"].values\n",
    "\n",
    "# Split into training and test sets\n",
    "X_train, X_test, y_train, y_test = train_test_split(X, y, test_size= 0.2, random_state= 42, stratify=y)\n",
    "\n",
    "models = {\"Logistic Regression\": LogisticRegression(), \"KNN\": KNeighborsClassifier(), \"Decision Tree Classifier\": DecisionTreeClassifier()}\n",
    "results = []\n",
    "\n",
    "# Loop through the models' values\n",
    "for model in models.values():\n",
    "    # Instantiate a KFold object\n",
    "    kf = KFold(n_splits=6, random_state=12, shuffle=True)\n",
    "    \n",
    "    # Perform cross-validation\n",
    "    cv_results = cross_val_score(model, X_train, y_train, cv=kf)\n",
    "    results.append(cv_results)\n",
    "    \n",
    "plt.boxplot(results, labels=models.keys())\n",
    "plt.show()"
   ]
  },
  {
   "cell_type": "code",
   "execution_count": 64,
   "id": "3b8a5eaf",
   "metadata": {},
   "outputs": [
    {
     "name": "stdout",
     "output_type": "stream",
     "text": [
      "Logistic Regression Test Set Accuracy: 0.5769230769230769\n",
      "KNN Test Set Accuracy: 0.4230769230769231\n",
      "Decision Tree Classifier Test Set Accuracy: 0.6923076923076923\n"
     ]
    }
   ],
   "source": [
    "models = {\"Logistic Regression\": LogisticRegression(), \"KNN\": KNeighborsClassifier(), \"Decision Tree Classifier\": DecisionTreeClassifier()}\n",
    "\n",
    "for name, model in models.items():\n",
    "    # Fit the model to the training data\n",
    "    model.fit(X_train, y_train)\n",
    "    \n",
    "    # Make predictions on the test set\n",
    "    y_pred = model.predict(X_test)\n",
    "    \n",
    "    test_score = model.score(X_test, y_test)\n",
    "    print(\"{} Test Set Accuracy: {}\".format(name, test_score))"
   ]
  },
  {
   "cell_type": "markdown",
   "id": "ae99c817",
   "metadata": {},
   "source": [
    "## KNN Classifier"
   ]
  },
  {
   "cell_type": "code",
   "execution_count": 65,
   "id": "58317433",
   "metadata": {},
   "outputs": [
    {
     "name": "stdout",
     "output_type": "stream",
     "text": [
      "0.4230769230769231\n"
     ]
    }
   ],
   "source": [
    "from sklearn.neighbors import KNeighborsClassifier \n",
    "\n",
    "knn = KNeighborsClassifier(n_neighbors=3)\n",
    "\n",
    "knn.fit(X_train, y_train)\n",
    "\n",
    "# Print the accuracy\n",
    "print(knn.score(X_test, y_test))"
   ]
  },
  {
   "cell_type": "markdown",
   "id": "97267c86",
   "metadata": {},
   "source": [
    "### Hyperparameter Tuning for KNN with RandomizedSearchCV"
   ]
  },
  {
   "cell_type": "code",
   "execution_count": 66,
   "id": "29f7c9d4",
   "metadata": {},
   "outputs": [
    {
     "name": "stdout",
     "output_type": "stream",
     "text": [
      "Tuned KNN Parameters: {'n_neighbors': 36}\n",
      "Tuned KNN Best Accuracy Score: 0.55\n"
     ]
    }
   ],
   "source": [
    "from sklearn.model_selection import RandomizedSearchCV\n",
    "from sklearn.model_selection import GridSearchCV\n",
    "\n",
    "knn = KNeighborsClassifier()\n",
    "kf = 20\n",
    "params = {\"n_neighbors\": np.arange(1,50)}\n",
    "\n",
    "knn_cv = RandomizedSearchCV(knn, params, cv=kf)\n",
    "\n",
    "# Fit the data to the model\n",
    "knn_cv.fit(X_train, y_train)\n",
    "\n",
    "# Print the tuned parameters and score\n",
    "print(\"Tuned KNN Parameters: {}\".format(knn_cv.best_params_))\n",
    "print(\"Tuned KNN Best Accuracy Score: {}\".format(knn_cv.best_score_))\n"
   ]
  },
  {
   "cell_type": "code",
   "execution_count": 67,
   "id": "294b4250",
   "metadata": {},
   "outputs": [
    {
     "name": "stdout",
     "output_type": "stream",
     "text": [
      "[[ 2 10]\n",
      " [ 2 12]]\n",
      "              precision    recall  f1-score   support\n",
      "\n",
      "           0       0.50      0.17      0.25        12\n",
      "           1       0.55      0.86      0.67        14\n",
      "\n",
      "    accuracy                           0.54        26\n",
      "   macro avg       0.52      0.51      0.46        26\n",
      "weighted avg       0.52      0.54      0.47        26\n",
      "\n"
     ]
    }
   ],
   "source": [
    "# Import confusion matrix\n",
    "from sklearn.metrics import classification_report, confusion_matrix\n",
    "knn = KNeighborsClassifier(n_neighbors=27)\n",
    "\n",
    "# Fit the model to the training data\n",
    "knn.fit(X_train,y_train)\n",
    "\n",
    "# Predict the labels of the test data: y_pred\n",
    "y_pred = knn.predict(X_test)\n",
    "\n",
    "# Generate the confusion matrix and classification report\n",
    "print(confusion_matrix(y_test,y_pred))\n",
    "print(classification_report(y_test,y_pred))"
   ]
  },
  {
   "cell_type": "markdown",
   "id": "6fbfd488",
   "metadata": {},
   "source": [
    "## Logistic Regression"
   ]
  },
  {
   "cell_type": "code",
   "execution_count": 68,
   "id": "cbde9bb4",
   "metadata": {},
   "outputs": [
    {
     "name": "stdout",
     "output_type": "stream",
     "text": [
      "[0.68621703 0.52090059 0.68621703 0.68621703 0.55433174 0.55433174\n",
      " 0.49405264 0.68621703 0.46723895 0.68621703]\n",
      "0.7321428571428572\n",
      "[[ 2 10]\n",
      " [ 2 12]]\n",
      "              precision    recall  f1-score   support\n",
      "\n",
      "           0       0.50      0.17      0.25        12\n",
      "           1       0.55      0.86      0.67        14\n",
      "\n",
      "    accuracy                           0.54        26\n",
      "   macro avg       0.52      0.51      0.46        26\n",
      "weighted avg       0.52      0.54      0.47        26\n",
      "\n"
     ]
    }
   ],
   "source": [
    "# Import LogisticRegression\n",
    "from sklearn.linear_model import LogisticRegression\n",
    "\n",
    "# Instantiate the model\n",
    "logreg = LogisticRegression()\n",
    "\n",
    "# Fit the model\n",
    "logreg.fit(X_train, y_train)\n",
    "\n",
    "# Predict probabilities\n",
    "y_pred_probs = logreg.predict_proba(X_test)[:, 1]\n",
    "\n",
    "print(y_pred_probs[:10])\n",
    "\n",
    "# Import roc_auc_score\n",
    "from sklearn.metrics import roc_auc_score\n",
    "\n",
    "# Calculate roc_auc_score\n",
    "print(roc_auc_score(y_test, y_pred_probs))\n",
    "\n",
    "# Calculate the confusion matrix\n",
    "print(confusion_matrix(y_test, y_pred))\n",
    "\n",
    "# Calculate the classification report\n",
    "print(classification_report(y_test, y_pred))"
   ]
  },
  {
   "cell_type": "markdown",
   "id": "45bb7b0f",
   "metadata": {},
   "source": [
    "### Hyperparameter Tuning for Logistic Regression"
   ]
  },
  {
   "cell_type": "code",
   "execution_count": 69,
   "id": "33b419e3",
   "metadata": {},
   "outputs": [
    {
     "name": "stdout",
     "output_type": "stream",
     "text": [
      "Tuned Logistic Regression Parameters: {'tol': 0.8775632653061224, 'solver': 'newton-cg', 'penalty': 'l2', 'class_weight': 'balanced', 'C': 0.5408163265306123}\n",
      "Tuned Logistic Regression Best Accuracy Score: 0.5900000000000001\n"
     ]
    }
   ],
   "source": [
    "# Hyperparameter Tuning with RandomizedSearchCV\n",
    "# Create the parameter space\n",
    "from sklearn.model_selection import RandomizedSearchCV\n",
    "from sklearn.model_selection import GridSearchCV\n",
    "\n",
    "kf = 10\n",
    "params = {\"penalty\": [\"l2\"],\n",
    "         \"tol\": np.linspace(0.0001, 1.0, 50),\n",
    "         \"C\": np.linspace(0.1, 1.0, 50),\n",
    "         \"class_weight\": [\"balanced\", {0:0.8, 1:0.2}],\n",
    "         \"solver\":[\"newton-cg\",\"saga\", \"lbfgs\"]}\n",
    "\n",
    "# Instantiate the RandomizedSearchCV object\n",
    "logreg_cv = RandomizedSearchCV(logreg, params, cv=kf)\n",
    "\n",
    "# Fit the data to the model\n",
    "logreg_cv.fit(X_train, y_train)\n",
    "\n",
    "# Print the tuned parameters and score\n",
    "print(\"Tuned Logistic Regression Parameters: {}\".format(logreg_cv.best_params_))\n",
    "print(\"Tuned Logistic Regression Best Accuracy Score: {}\".format(logreg_cv.best_score_))"
   ]
  },
  {
   "cell_type": "markdown",
   "id": "b4a78df7",
   "metadata": {},
   "source": [
    "## Random Forest"
   ]
  },
  {
   "cell_type": "code",
   "execution_count": 70,
   "id": "b7f064d4",
   "metadata": {},
   "outputs": [
    {
     "name": "stdout",
     "output_type": "stream",
     "text": [
      "Validation Accuracy: 61.54%\n"
     ]
    }
   ],
   "source": [
    "from sklearn.model_selection import train_test_split\n",
    "from sklearn.ensemble import RandomForestClassifier\n",
    "from sklearn.metrics import accuracy_score\n",
    "\n",
    "# Assuming acme_df is already loaded\n",
    "\n",
    "# Pre-processing\n",
    "features = ['X1', 'X2', 'X3', 'X4', 'X5', 'X6']\n",
    "X = acme_df[features]\n",
    "y = acme_df['Y']\n",
    "\n",
    "# Split the data\n",
    "X_train, X_val, y_train, y_val = train_test_split(X, y, test_size=0.2, random_state=42)\n",
    "\n",
    "# Model building\n",
    "rf_model = RandomForestClassifier(n_estimators=100, random_state=42)\n",
    "\n",
    "# Training\n",
    "rf_model.fit(X_train, y_train)\n",
    "\n",
    "# Predictions\n",
    "y_pred = rf_model.predict(X_val)\n",
    "\n",
    "# Evaluation\n",
    "acc = accuracy_score(y_val, y_pred)\n",
    "print(f\"Validation Accuracy: {acc*100:.2f}%\")\n",
    "\n"
   ]
  },
  {
   "cell_type": "markdown",
   "id": "eb841bfa",
   "metadata": {},
   "source": [
    "## Conclusion"
   ]
  },
  {
   "cell_type": "markdown",
   "id": "0697e6f8",
   "metadata": {},
   "source": [
    "After several iterations with various models and hypertuning parameters for these models, I was unable to build a model with the required accuracy. I will attribute this to the small size of the dataset"
   ]
  }
 ],
 "metadata": {
  "kernelspec": {
   "display_name": "MLenv",
   "language": "python",
   "name": "mlenv"
  },
  "language_info": {
   "codemirror_mode": {
    "name": "ipython",
    "version": 3
   },
   "file_extension": ".py",
   "mimetype": "text/x-python",
   "name": "python",
   "nbconvert_exporter": "python",
   "pygments_lexer": "ipython3",
   "version": "3.7.12"
  }
 },
 "nbformat": 4,
 "nbformat_minor": 5
}
